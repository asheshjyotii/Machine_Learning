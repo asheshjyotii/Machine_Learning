{
 "cells": [
  {
   "cell_type": "code",
   "execution_count": 3,
   "id": "365602dc-2ed1-4b25-8a5c-fcd6ed71c970",
   "metadata": {},
   "outputs": [
    {
     "name": "stdout",
     "output_type": "stream",
     "text": [
      "<module 'pandas' from '/home/asheshjyoti/anaconda3/lib/python3.11/site-packages/pandas/__init__.py'>\n"
     ]
    }
   ],
   "source": [
    "import os\n",
    "from pathlib import Path\n",
    "import pandas\n",
    "print(pandas)"
   ]
  },
  {
   "cell_type": "code",
   "execution_count": 6,
   "id": "9df45b7d-3643-4cd9-8608-18af4b8cf6ab",
   "metadata": {},
   "outputs": [
    {
     "name": "stdout",
     "output_type": "stream",
     "text": [
      "OECD_Life_Index\n"
     ]
    }
   ],
   "source": [
    "datasets = Path('../datasets/').resolve()\n",
    "\n",
    "# show all files in datasets folder\n",
    "for x in Path(datasets).iterdir():\n",
    "    print(x.stem)"
   ]
  },
  {
   "cell_type": "markdown",
   "id": "96f51170-7254-435d-83e2-4e6add6085ab",
   "metadata": {},
   "source": [
    "# Data Preparation"
   ]
  },
  {
   "cell_type": "code",
   "execution_count": 14,
   "id": "141758aa-26f9-42d8-9c78-fcf94da08017",
   "metadata": {},
   "outputs": [
    {
     "name": "stdout",
     "output_type": "stream",
     "text": [
      "<class 'pandas.core.frame.DataFrame'>\n",
      "RangeIndex: 27 entries, 0 to 26\n",
      "Data columns (total 3 columns):\n",
      " #   Column                Non-Null Count  Dtype  \n",
      "---  ------                --------------  -----  \n",
      " 0   Country               27 non-null     object \n",
      " 1   GDP per capita (USD)  27 non-null     float64\n",
      " 2   Life satisfaction     27 non-null     float64\n",
      "dtypes: float64(2), object(1)\n",
      "memory usage: 780.0+ bytes\n",
      "None\n",
      "\n",
      "\n",
      "---------------------------------------\n",
      "   Country  GDP per capita (USD)  Life satisfaction\n",
      "0   Russia          26456.387938                5.8\n",
      "1   Greece          27287.083401                5.4\n",
      "2   Turkey          28384.987785                5.5\n",
      "3   Latvia          29932.493910                5.9\n",
      "4  Hungary          31007.768407                5.6\n",
      "\n",
      "\n",
      "---------------------------------------\n",
      "   Country  GDP per capita (USD)  Life satisfaction\n",
      "0   Russia          26456.387938                5.8\n",
      "1   Greece          27287.083401                5.4\n",
      "2   Turkey          28384.987785                5.5\n",
      "3   Latvia          29932.493910                5.9\n",
      "4  Hungary          31007.768407                5.6\n"
     ]
    }
   ],
   "source": [
    "root_dataset = 'https://raw.githubusercontent.com/ageron/data/ead32577ad88c258b68b0149781b8e35f1bb160f/lifesat/'\n",
    "\n",
    "df = pandas.read_csv(root_dataset+'lifesat.csv')\n",
    "\n",
    "print(df.info())\n",
    "print(\"\\n\\n---------------------------------------\")\n",
    "\n",
    "print(df.head(5))\n",
    "print(\"\\n\\n---------------------------------------\")\n",
    "\n",
    "# sorting according to life satisfaction\n",
    "\n",
    "df = df.sort_values(by=\"GDP per capita (USD)\", ascending=True)\n",
    "\n",
    "print(df.head(5))\n",
    "\n",
    "\n",
    "x, y = df['GDP per capita (USD)'], df['Life satisfaction']\n",
    "X, Y = df[['GDP per capita (USD)']], df[['Life satisfaction']]\n"
   ]
  },
  {
   "cell_type": "markdown",
   "id": "abe8ed2b-2029-4d92-9aaf-f393e44a1b75",
   "metadata": {},
   "source": [
    "# Data Viz"
   ]
  },
  {
   "cell_type": "code",
   "execution_count": null,
   "id": "f12d3019-82ed-42e5-ab36-f2436f69578d",
   "metadata": {},
   "outputs": [],
   "source": []
  },
  {
   "cell_type": "markdown",
   "id": "88c6cbaa-ad10-40d0-baae-33f7fb7ddd5a",
   "metadata": {},
   "source": [
    "from matplotlib import pyplot\n",
    "life_sat = y.sort_values(axis=0)\n",
    "# size creator\n",
    "value =50\n",
    "size = []\n",
    "record =[]\n",
    "for index,z in enumerate(life_sat.tolist()):\n",
    "    record.append(z)\n",
    "    if index==0:\n",
    "        pass\n",
    "    if record[index-1] != z:\n",
    "        value=value+10\n",
    "        size.append(value)\n",
    "    else:\n",
    "        size.append(value)\n",
    "\n",
    "# original index\n",
    "org_index = life_sat.index.tolist()\n",
    "print(\"original index\",org_index)\n",
    "\n",
    "new_size = []\n",
    "#arranging sizes according to original\n",
    "print(\"size\",size)\n",
    "for index, m in enumerate(org_index):\n",
    "\n",
    "    new_size.append(size[org_index[m]])\n",
    "    \n",
    "print(new_size)\n",
    "pyplot.scatter(x,y,s=new_size)\n",
    "pyplot.title(\"Life Satisfaction VS GDP per capita\",size=12)\n",
    "pyplot.xlabel(\"GDP per Capita(USD)\",size = 10)\n",
    "pyplot.ylabel(\"Life Satisfaction\",size = 10)"
   ]
  },
  {
   "cell_type": "markdown",
   "id": "233a2f21-6864-4879-91bf-a5a03065fc21",
   "metadata": {},
   "source": [
    "# Fitting a Linear Regression Model"
   ]
  },
  {
   "cell_type": "code",
   "execution_count": 24,
   "id": "5e1516cd-f35c-49ca-8f9c-846be0e89a0c",
   "metadata": {},
   "outputs": [
    {
     "data": {
      "text/html": [
       "<style>#sk-container-id-3 {color: black;background-color: white;}#sk-container-id-3 pre{padding: 0;}#sk-container-id-3 div.sk-toggleable {background-color: white;}#sk-container-id-3 label.sk-toggleable__label {cursor: pointer;display: block;width: 100%;margin-bottom: 0;padding: 0.3em;box-sizing: border-box;text-align: center;}#sk-container-id-3 label.sk-toggleable__label-arrow:before {content: \"▸\";float: left;margin-right: 0.25em;color: #696969;}#sk-container-id-3 label.sk-toggleable__label-arrow:hover:before {color: black;}#sk-container-id-3 div.sk-estimator:hover label.sk-toggleable__label-arrow:before {color: black;}#sk-container-id-3 div.sk-toggleable__content {max-height: 0;max-width: 0;overflow: hidden;text-align: left;background-color: #f0f8ff;}#sk-container-id-3 div.sk-toggleable__content pre {margin: 0.2em;color: black;border-radius: 0.25em;background-color: #f0f8ff;}#sk-container-id-3 input.sk-toggleable__control:checked~div.sk-toggleable__content {max-height: 200px;max-width: 100%;overflow: auto;}#sk-container-id-3 input.sk-toggleable__control:checked~label.sk-toggleable__label-arrow:before {content: \"▾\";}#sk-container-id-3 div.sk-estimator input.sk-toggleable__control:checked~label.sk-toggleable__label {background-color: #d4ebff;}#sk-container-id-3 div.sk-label input.sk-toggleable__control:checked~label.sk-toggleable__label {background-color: #d4ebff;}#sk-container-id-3 input.sk-hidden--visually {border: 0;clip: rect(1px 1px 1px 1px);clip: rect(1px, 1px, 1px, 1px);height: 1px;margin: -1px;overflow: hidden;padding: 0;position: absolute;width: 1px;}#sk-container-id-3 div.sk-estimator {font-family: monospace;background-color: #f0f8ff;border: 1px dotted black;border-radius: 0.25em;box-sizing: border-box;margin-bottom: 0.5em;}#sk-container-id-3 div.sk-estimator:hover {background-color: #d4ebff;}#sk-container-id-3 div.sk-parallel-item::after {content: \"\";width: 100%;border-bottom: 1px solid gray;flex-grow: 1;}#sk-container-id-3 div.sk-label:hover label.sk-toggleable__label {background-color: #d4ebff;}#sk-container-id-3 div.sk-serial::before {content: \"\";position: absolute;border-left: 1px solid gray;box-sizing: border-box;top: 0;bottom: 0;left: 50%;z-index: 0;}#sk-container-id-3 div.sk-serial {display: flex;flex-direction: column;align-items: center;background-color: white;padding-right: 0.2em;padding-left: 0.2em;position: relative;}#sk-container-id-3 div.sk-item {position: relative;z-index: 1;}#sk-container-id-3 div.sk-parallel {display: flex;align-items: stretch;justify-content: center;background-color: white;position: relative;}#sk-container-id-3 div.sk-item::before, #sk-container-id-3 div.sk-parallel-item::before {content: \"\";position: absolute;border-left: 1px solid gray;box-sizing: border-box;top: 0;bottom: 0;left: 50%;z-index: -1;}#sk-container-id-3 div.sk-parallel-item {display: flex;flex-direction: column;z-index: 1;position: relative;background-color: white;}#sk-container-id-3 div.sk-parallel-item:first-child::after {align-self: flex-end;width: 50%;}#sk-container-id-3 div.sk-parallel-item:last-child::after {align-self: flex-start;width: 50%;}#sk-container-id-3 div.sk-parallel-item:only-child::after {width: 0;}#sk-container-id-3 div.sk-dashed-wrapped {border: 1px dashed gray;margin: 0 0.4em 0.5em 0.4em;box-sizing: border-box;padding-bottom: 0.4em;background-color: white;}#sk-container-id-3 div.sk-label label {font-family: monospace;font-weight: bold;display: inline-block;line-height: 1.2em;}#sk-container-id-3 div.sk-label-container {text-align: center;}#sk-container-id-3 div.sk-container {/* jupyter's `normalize.less` sets `[hidden] { display: none; }` but bootstrap.min.css set `[hidden] { display: none !important; }` so we also need the `!important` here to be able to override the default hidden behavior on the sphinx rendered scikit-learn.org. See: https://github.com/scikit-learn/scikit-learn/issues/21755 */display: inline-block !important;position: relative;}#sk-container-id-3 div.sk-text-repr-fallback {display: none;}</style><div id=\"sk-container-id-3\" class=\"sk-top-container\"><div class=\"sk-text-repr-fallback\"><pre>LinearRegression()</pre><b>In a Jupyter environment, please rerun this cell to show the HTML representation or trust the notebook. <br />On GitHub, the HTML representation is unable to render, please try loading this page with nbviewer.org.</b></div><div class=\"sk-container\" hidden><div class=\"sk-item\"><div class=\"sk-estimator sk-toggleable\"><input class=\"sk-toggleable__control sk-hidden--visually\" id=\"sk-estimator-id-3\" type=\"checkbox\" checked><label for=\"sk-estimator-id-3\" class=\"sk-toggleable__label sk-toggleable__label-arrow\">LinearRegression</label><div class=\"sk-toggleable__content\"><pre>LinearRegression()</pre></div></div></div></div></div>"
      ],
      "text/plain": [
       "LinearRegression()"
      ]
     },
     "execution_count": 24,
     "metadata": {},
     "output_type": "execute_result"
    }
   ],
   "source": [
    "from sklearn.linear_model import LinearRegression\n",
    "\n",
    "model = LinearRegression()\n",
    "\n",
    "model.fit(X,Y)\n",
    "\n"
   ]
  }
 ],
 "metadata": {
  "kernelspec": {
   "display_name": "Python 3 (ipykernel)",
   "language": "python",
   "name": "python3"
  },
  "language_info": {
   "codemirror_mode": {
    "name": "ipython",
    "version": 3
   },
   "file_extension": ".py",
   "mimetype": "text/x-python",
   "name": "python",
   "nbconvert_exporter": "python",
   "pygments_lexer": "ipython3",
   "version": "3.11.7"
  }
 },
 "nbformat": 4,
 "nbformat_minor": 5
}
