{
 "cells": [
  {
   "cell_type": "code",
   "execution_count": 15,
   "id": "365602dc-2ed1-4b25-8a5c-fcd6ed71c970",
   "metadata": {},
   "outputs": [
    {
     "name": "stdout",
     "output_type": "stream",
     "text": [
      "<module 'pandas' from '/home/asheshjyoti/anaconda3/lib/python3.11/site-packages/pandas/__init__.py'>\n"
     ]
    }
   ],
   "source": [
    "import os\n",
    "from pathlib import Path\n",
    "import pandas\n",
    "print(pandas)"
   ]
  },
  {
   "cell_type": "code",
   "execution_count": 8,
   "id": "9df45b7d-3643-4cd9-8608-18af4b8cf6ab",
   "metadata": {},
   "outputs": [
    {
     "name": "stdout",
     "output_type": "stream",
     "text": [
      "x\n",
      "OECD_Life_Index\n"
     ]
    }
   ],
   "source": [
    "# show all files in datasets folder\n",
    "for x in Path(datasets).iterdir():\n",
    "    print(x.stem)"
   ]
  },
  {
   "cell_type": "code",
   "execution_count": 42,
   "id": "141758aa-26f9-42d8-9c78-fcf94da08017",
   "metadata": {},
   "outputs": [
    {
     "name": "stdout",
     "output_type": "stream",
     "text": [
      "<class 'pandas.core.frame.DataFrame'>\n",
      "RangeIndex: 27 entries, 0 to 26\n",
      "Data columns (total 3 columns):\n",
      " #   Column                Non-Null Count  Dtype  \n",
      "---  ------                --------------  -----  \n",
      " 0   Country               27 non-null     object \n",
      " 1   GDP per capita (USD)  27 non-null     float64\n",
      " 2   Life satisfaction     27 non-null     float64\n",
      "dtypes: float64(2), object(1)\n",
      "memory usage: 780.0+ bytes\n",
      "None\n",
      "\n",
      "\n",
      "---------------------------------------\n",
      "   Country  GDP per capita (USD)  Life satisfaction\n",
      "0   Russia          26456.387938                5.8\n",
      "1   Greece          27287.083401                5.4\n",
      "2   Turkey          28384.987785                5.5\n",
      "3   Latvia          29932.493910                5.9\n",
      "4  Hungary          31007.768407                5.6\n",
      "\n",
      "\n",
      "---------------------------------------\n",
      "   Country  GDP per capita (USD)  Life satisfaction\n",
      "0   Russia          26456.387938                5.8\n",
      "1   Greece          27287.083401                5.4\n",
      "2   Turkey          28384.987785                5.5\n",
      "3   Latvia          29932.493910                5.9\n",
      "4  Hungary          31007.768407                5.6\n"
     ]
    }
   ],
   "source": [
    "root_dataset = 'https://raw.githubusercontent.com/ageron/data/ead32577ad88c258b68b0149781b8e35f1bb160f/lifesat/'\n",
    "\n",
    "df = pandas.read_csv(root_dataset+'lifesat.csv')\n",
    "\n",
    "print(data.info())\n",
    "print(\"\\n\\n---------------------------------------\")\n",
    "\n",
    "print(data.head(5))\n",
    "print(\"\\n\\n---------------------------------------\")\n",
    "\n",
    "# sorting according to life satisfaction\n",
    "\n",
    "df = df.sort_values(by=\"GDP per capita (USD)\", ascending=True)\n",
    "\n",
    "print(data.head(5))"
   ]
  }
 ],
 "metadata": {
  "kernelspec": {
   "display_name": "Python 3 (ipykernel)",
   "language": "python",
   "name": "python3"
  },
  "language_info": {
   "codemirror_mode": {
    "name": "ipython",
    "version": 3
   },
   "file_extension": ".py",
   "mimetype": "text/x-python",
   "name": "python",
   "nbconvert_exporter": "python",
   "pygments_lexer": "ipython3",
   "version": "3.11.7"
  }
 },
 "nbformat": 4,
 "nbformat_minor": 5
}
